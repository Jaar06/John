{
  "nbformat": 4,
  "nbformat_minor": 0,
  "metadata": {
    "colab": {
      "name": "Copy of Markdown Language",
      "provenance": [],
      "collapsed_sections": []
    },
    "kernelspec": {
      "name": "python3",
      "display_name": "Python 3"
    },
    "language_info": {
      "name": "python"
    }
  },
  "cells": [
    {
      "cell_type": "markdown",
      "source": [
        "# HW 2\n",
        "\n",
        "My name is **John Angelo A Romualdo** there's nothing that's really interesting about me but here are other stuff that's about me. \n",
        "\n",
        "*About me* \n",
        "\n",
        "I'm the only child in my family 😃\n",
        "\n",
        "I enjoy traveling around ✈ \n",
        "If it's out of state like *Florida* or *California*\n",
        "or if it's going out of country like the **Philippines**\n",
        "\n",
        "I enjoy playing *video games* during my free time 🕹\n",
        "\n",
        "I also like to hang out with **family** and **friends**\n",
        "\n",
        "That's really it about me nothing really intresting. "
      ],
      "metadata": {
        "id": "lnfteUaa8O3s"
      }
    }
  ]
}