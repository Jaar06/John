{
  "nbformat": 4,
  "nbformat_minor": 0,
  "metadata": {
    "colab": {
      "name": "4/1/2022",
      "provenance": [],
      "collapsed_sections": []
    },
    "kernelspec": {
      "name": "python3",
      "display_name": "Python 3"
    },
    "language_info": {
      "name": "python"
    }
  },
  "cells": [
    {
      "cell_type": "code",
      "source": [
        "import numpy as np\n",
        "\n",
        "#avg of two numbers\n",
        "def avg_of_2(x,y):\n",
        "  return (x+y)/2 \n",
        "\n",
        "#avg of a list of numbers \n",
        "def avg_of_list(myNums):\n",
        "  total = 0 \n",
        "  for i in myNums:\n",
        "    total = total + i \n",
        "  return total/len(myNums)\n",
        "\n",
        "#getting the weighted avrage of np.array\n",
        "def expectedValue1(info,weights):\n",
        "  return (info @ weights)\n",
        "\n",
        "num_one = 2 \n",
        "num_two = 5 \n",
        "print(avg_of_2(num_one,num_two))\n",
        "\n",
        "z = [1,2,3,4,5,6,7,8]\n",
        "print(avg_of_list(z))\n",
        "\n",
        "info = np.array ([2,3,4,5,6])\n",
        "weights = np.array ([.1,.15,.07,.32,.36])\n",
        "print(expectedValue1(info,weights))"
      ],
      "metadata": {
        "colab": {
          "base_uri": "https://localhost:8080/"
        },
        "id": "mWp6o5VWWjUp",
        "outputId": "c91c729d-5a0e-4e0c-86d3-7331d463c873"
      },
      "execution_count": null,
      "outputs": [
        {
          "output_type": "stream",
          "name": "stdout",
          "text": [
            "3.5\n",
            "4.5\n",
            "4.69\n"
          ]
        }
      ]
    },
    {
      "cell_type": "code",
      "source": [
        "#sum from a to b \n",
        "def sumRange(a,b):\n",
        "  total =0 \n",
        "  for i in range(a,b+1):\n",
        "    total = total + i \n",
        "  return total \n",
        "\n",
        "print(sumRange(5,8))"
      ],
      "metadata": {
        "colab": {
          "base_uri": "https://localhost:8080/"
        },
        "id": "XcPFVE9kanDu",
        "outputId": "1fe18eb5-de89-428e-f1c9-c4fa99c8acb6"
      },
      "execution_count": null,
      "outputs": [
        {
          "output_type": "stream",
          "name": "stdout",
          "text": [
            "26\n"
          ]
        }
      ]
    },
    {
      "cell_type": "code",
      "source": [
        "#output the triangle numbers, or squares, or pentoganol numbers \n",
        "def shapeNumbers(shape): \n",
        "  if (shape == \"triangle\"):\n",
        "    skipVal = 1\n",
        "  elif(shape == \"square\"):\n",
        "    skipVal = 2\n",
        "  elif (shape == \"pentagon\"):\n",
        "    skipVal = 3 \n",
        "  \n",
        "  total = 0 \n",
        "  for i in range(1,100,skipVal): \n",
        "    total = total + i\n",
        "    print(total,end =\" \")\n",
        "  print()\n",
        "\n",
        "shapeNumbers(\"triangle\")\n",
        "shapeNumbers(\"square\")\n",
        "shapeNumbers(\"pentagon\")"
      ],
      "metadata": {
        "colab": {
          "base_uri": "https://localhost:8080/"
        },
        "id": "ORgeFZGtbH5m",
        "outputId": "9993d3e8-b75f-4f9d-f1ee-7c5c1d021e53"
      },
      "execution_count": null,
      "outputs": [
        {
          "output_type": "stream",
          "name": "stdout",
          "text": [
            "1 3 6 10 15 21 28 36 45 55 66 78 91 105 120 136 153 171 190 210 231 253 276 300 325 351 378 406 435 465 496 528 561 595 630 666 703 741 780 820 861 903 946 990 1035 1081 1128 1176 1225 1275 1326 1378 1431 1485 1540 1596 1653 1711 1770 1830 1891 1953 2016 2080 2145 2211 2278 2346 2415 2485 2556 2628 2701 2775 2850 2926 3003 3081 3160 3240 3321 3403 3486 3570 3655 3741 3828 3916 4005 4095 4186 4278 4371 4465 4560 4656 4753 4851 4950 \n",
            "1 4 9 16 25 36 49 64 81 100 121 144 169 196 225 256 289 324 361 400 441 484 529 576 625 676 729 784 841 900 961 1024 1089 1156 1225 1296 1369 1444 1521 1600 1681 1764 1849 1936 2025 2116 2209 2304 2401 2500 \n",
            "1 5 12 22 35 51 70 92 117 145 176 210 247 287 330 376 425 477 532 590 651 715 782 852 925 1001 1080 1162 1247 1335 1426 1520 1617 \n"
          ]
        }
      ]
    },
    {
      "cell_type": "code",
      "source": [
        "def calculate_tax(price, tax_rate):\n",
        "    total = price + (price * tax_rate)\n",
        "    total = round(total, 2)\n",
        "    return total\n",
        " \n",
        "#float is a variable type for decimals\n",
        "item = str(input(\"Please enter an item\"))\n",
        "my_price = float(input(\"Price of the item $\"))\n",
        "tax = calculate_tax(my_price,.0875)\n",
        "print (\"The price of\",item,\"with tax: $\",tax,\"\")"
      ],
      "metadata": {
        "colab": {
          "base_uri": "https://localhost:8080/"
        },
        "id": "eWcUH4RwXVj_",
        "outputId": "b83567c4-c5d9-46e1-88e6-580b5033cfa2"
      },
      "execution_count": 3,
      "outputs": [
        {
          "output_type": "stream",
          "name": "stdout",
          "text": [
            "Please enter an item Mouse\n",
            "Price of the item $70.99\n",
            "The price of  Mouse with tax: $ 77.2 \n"
          ]
        }
      ]
    },
    {
      "cell_type": "code",
      "source": [
        "#list of primes below some n \n",
        "#first create a function that tells you if a number is prime \n",
        "def isPrime(number):\n",
        "  for i in range(2,number):\n",
        "    if(number%i == 0):\n",
        "      return False \n",
        "  return True\n",
        "\n",
        "def listPrimes(number):\n",
        "  for i in range(2,number+1): \n",
        "    if(isPrime(i)):\n",
        "      print(i,end = \" \")\n",
        "\n",
        "listPrimes(100)"
      ],
      "metadata": {
        "colab": {
          "base_uri": "https://localhost:8080/"
        },
        "id": "kKxo6MW4ebql",
        "outputId": "b25d7ba3-d3ff-43e1-ec16-ac67f5b92e6b"
      },
      "execution_count": null,
      "outputs": [
        {
          "output_type": "stream",
          "name": "stdout",
          "text": [
            "2 3 5 7 11 13 17 19 23 29 31 37 41 43 47 53 59 61 67 71 73 79 83 89 97 "
          ]
        }
      ]
    },
    {
      "cell_type": "code",
      "source": [
        "#list twin primes\n",
        "\n",
        "def isTwinPrime(s): \n",
        "  if(isPrime(s) and isPrime (s+2)): \n",
        "    return True \n",
        "  return False\n",
        "\n",
        "def listTwinPrimes(number): \n",
        "  for i in range(2,number+1):\n",
        "    if(isTwinPrime(i)):\n",
        "      print(i,i+2)\n",
        "\n",
        "listTwinPrimes(100)"
      ],
      "metadata": {
        "colab": {
          "base_uri": "https://localhost:8080/"
        },
        "id": "NBrPaurKpRsH",
        "outputId": "109a6503-3382-4de4-85e4-a261362488d7"
      },
      "execution_count": null,
      "outputs": [
        {
          "output_type": "stream",
          "name": "stdout",
          "text": [
            "3 5\n",
            "5 7\n",
            "11 13\n",
            "17 19\n",
            "29 31\n",
            "41 43\n",
            "59 61\n",
            "71 73\n"
          ]
        }
      ]
    },
    {
      "cell_type": "code",
      "source": [
        "#testing rock, paper, scissors \n",
        "import random as rnd \n",
        "\n",
        "rock = paper = scissors = 0 \n",
        "for i in range(100000):\n",
        "  playerOne = rnd.randint(1,3)\n",
        "  playerTwo = rnd.randint(1,3)\n",
        "  if ((playerOne == 1 and playerTwo == 3) or (playerTwo == 1 and playerOne == 3)) :\n",
        "    rock = rock +1 \n",
        "  elif ((playerOne == 2 and playerTwo == 1) or (playerTwo == 2 and playerOne == 1)):\n",
        "    paper = paper+1 \n",
        "  elif ((playerOne == 3 and playerTwo == 2) or (playerTwo == 3 and playerOne == 2)):\n",
        "    scissors = scissors + 1\n",
        "\n",
        "print(rock/100000)\n",
        "print(paper/100000)\n",
        "print(scissors/100000)\n",
        "print((100000-(rock+paper+scissors))/100000)\n"
      ],
      "metadata": {
        "colab": {
          "base_uri": "https://localhost:8080/"
        },
        "id": "4G1OV_rbrz-J",
        "outputId": "7f7ae4a1-1e8a-4085-8459-9f77b9a8d723"
      },
      "execution_count": null,
      "outputs": [
        {
          "output_type": "stream",
          "name": "stdout",
          "text": [
            "0.22258\n",
            "0.22236\n",
            "0.22282\n",
            "0.33224\n"
          ]
        }
      ]
    },
    {
      "cell_type": "code",
      "source": [
        "#Monty Hall Problem \n",
        "import random as rnd \n",
        "\n",
        "def noChange():\n",
        "  \n",
        "  #set 1 and 2 to a goat and 3 to a prize \n",
        "  myList = [1,2,3]\n",
        "  rnd.shuffle(myList)\n",
        "\n",
        "  #set up the goats and prize \n",
        "  doors = ['goat', 'goat', 'goat']\n",
        "  doors[myList.index(3)] = 'prize'\n",
        "  print(doors)\n",
        "\n",
        "  if doors[0] == 'prize': \n",
        "    return 1 \n",
        "  else:\n",
        "    return 0\n",
        "\n",
        "def measureChange(): \n",
        "  total = 0 \n",
        "  for i in range(100000): \n",
        "    if(noChange()): \n",
        "      total = total +1\n",
        "  print(total/100000)\n",
        "  \n",
        "measureChange()\n",
        "\n"
      ],
      "metadata": {
        "id": "zXRXT2G4uoF6"
      },
      "execution_count": null,
      "outputs": []
    },
    {
      "cell_type": "code",
      "source": [
        "def yesChange():\n",
        "  \n",
        "  #set 1 and 2 to a goat and 3 to a prize \n",
        "  myList = [1,2,3]\n",
        "  rnd.shuffle(myList)\n",
        "\n",
        "  #set up the goats and prize \n",
        "  doors = ['goat', 'goat', 'goat']\n",
        "  doors[myList.index(3)] = 'prize'\n",
        "  #let the user choose a door\n",
        "  choice = 0 \n",
        "\n",
        "  #create the sublist \n",
        "  toShow = doors[1:3]\n",
        "  door_to_show = toShow.index('goat')\n",
        "\n",
        "  if(door_to_show == 0): \n",
        "    if(doors[2] == 'prize'): \n",
        "      return True \n",
        "    else: \n",
        "      return False \n",
        "  elif (door_to_show == 1):\n",
        "    if(doors[1] == 'prize'):\n",
        "      return True \n",
        "    else: \n",
        "      return False \n",
        "\n",
        "def measureChange(): \n",
        "  total = 0 \n",
        "  for i in range(100000): \n",
        "    if(yesChange()): \n",
        "      total = total +1\n",
        "  print(total/100000)\n",
        "\n",
        "measureChange()"
      ],
      "metadata": {
        "colab": {
          "base_uri": "https://localhost:8080/"
        },
        "id": "2Q-Tyl8q0Gor",
        "outputId": "9db6de68-beaf-4262-a7cd-f85a0cf1c1d5"
      },
      "execution_count": null,
      "outputs": [
        {
          "output_type": "stream",
          "name": "stdout",
          "text": [
            "0.66703\n"
          ]
        }
      ]
    }
  ]
}