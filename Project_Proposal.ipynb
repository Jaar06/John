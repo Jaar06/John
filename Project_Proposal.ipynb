{
  "nbformat": 4,
  "nbformat_minor": 0,
  "metadata": {
    "colab": {
      "name": "Project Proposal ",
      "provenance": []
    },
    "kernelspec": {
      "name": "python3",
      "display_name": "Python 3"
    },
    "language_info": {
      "name": "python"
    }
  },
  "cells": [
    {
      "cell_type": "markdown",
      "source": [
        "#**Final Project Proposal**\n",
        "\n",
        "#Introduction \n",
        "\n",
        "Valorant has quickly become one of the most popualr esports game around the world. Created by Riot Games, the first person shooter or FPS in short was released in Summer of 2020 and has become very popular. It is played by millions of people *(including myself)* daily from around the world. As players and teams from around the globe compete in events they try to peform well in competitons and earn a bit of money when playing. \n",
        "\n",
        "\n"
      ],
      "metadata": {
        "id": "pMzmvOyZIDpM"
      }
    },
    {
      "cell_type": "markdown",
      "source": [
        "#Research Question and Data\n",
        " The question: How well did the player preform? how much money did they earn? who makes the most earnings? \n",
        " Explanation: I will analyze the data to determine those factors to those players that have done really good in events. "
      ],
      "metadata": {
        "id": "AODG82WfNhfs"
      }
    },
    {
      "cell_type": "markdown",
      "source": [
        "#Data\n",
        "I will be using the data in this data set [here](https://www.kaggle.com/datasets/evangower/valorant-esports-top-earnings) to see which players have made the most earning how much they made and how well they preformed (Keep in mind there are 500 players in this data set but I will be using less than that) "
      ],
      "metadata": {
        "id": "zLr44LOFPTSa"
      }
    },
    {
      "cell_type": "markdown",
      "source": [
        "#Approach\n",
        "I'm going to store the data in a database to see which player made the most money, earning and how well they did. \n",
        "\n",
        "Again the goal here is to see how well did the player preform? how much money they earn? and see who made the most earnings? "
      ],
      "metadata": {
        "id": "8wjOsj64Pc1D"
      }
    }
  ]
}