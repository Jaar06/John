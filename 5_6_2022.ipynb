{
  "nbformat": 4,
  "nbformat_minor": 0,
  "metadata": {
    "colab": {
      "name": "5/6/2022",
      "provenance": []
    },
    "kernelspec": {
      "name": "python3",
      "display_name": "Python 3"
    },
    "language_info": {
      "name": "python"
    }
  },
  "cells": [
    {
      "cell_type": "markdown",
      "source": [
        "#Explain in words what accuracy, precision, and recall are.  Describe a situation when you would prefer one to another and where the shortcomings to each lays. \n",
        "\n",
        "Accuracy is the total number of predictions and number of correct predictions \n",
        "Precision is the true positive with actual results or in other words how close you are to the actual results \n",
        "Recall is a measure of quantity. \n",
        "\n",
        "I would prefer to use precision or recall because the problem with accuracy the dataset could be imbalanced \n",
        "\n"
      ],
      "metadata": {
        "id": "Gqqv_DpvrSIe"
      }
    },
    {
      "cell_type": "markdown",
      "source": [
        "#What is a confusion matrix?\n",
        "\n",
        "A confusion matrix is a table that is often used to describe the performance of a classification model (or \"classifier\") on a set of test data for which the true values are known."
      ],
      "metadata": {
        "id": "0Sw_MF65uGQg"
      }
    },
    {
      "cell_type": "code",
      "source": [
        "F-Measure = (2 * Precision * Recall) / (Precision + Recall)"
      ],
      "metadata": {
        "id": "X5qRpKfRvDF9"
      },
      "execution_count": null,
      "outputs": []
    },
    {
      "cell_type": "markdown",
      "source": [
        "#Give your own example of a type 1 and type 2 error\n",
        "\n",
        "A type 1 error is a false postive so it could be a test result saying you have covid but in reality you don't \n",
        "\n",
        "A type 2 error is a false negative so a test result saying you don't have covid but in reality you do "
      ],
      "metadata": {
        "id": "TzKgqTFDvFwd"
      }
    },
    {
      "cell_type": "markdown",
      "source": [
        "#Why do we use train.test,split() function from Python when analyzing data?  What is the point of splitting data?\n",
        "\n",
        "It helps us to evaluate how well our machine learning model performs"
      ],
      "metadata": {
        "id": "TjnG37LzvyoT"
      }
    },
    {
      "cell_type": "markdown",
      "source": [
        "#What is the bias vs. variance tradeoff?\n",
        "\n",
        "The Bias-Variance Tradeoff is relevant for supervised machine learning - specifically for predictive modeling. It's a way to diagnose the performance of an algorithm by breaking down its prediction error."
      ],
      "metadata": {
        "id": "EvTSLWwDwRN9"
      }
    }
  ]
}