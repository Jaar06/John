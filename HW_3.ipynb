{
  "nbformat": 4,
  "nbformat_minor": 0,
  "metadata": {
    "colab": {
      "name": "HW 3 ",
      "provenance": []
    },
    "kernelspec": {
      "name": "python3",
      "display_name": "Python 3"
    },
    "language_info": {
      "name": "python"
    }
  },
  "cells": [
    {
      "cell_type": "markdown",
      "source": [
        "# HW 3 "
      ],
      "metadata": {
        "id": "CZTdqGUpw1fP"
      }
    },
    {
      "cell_type": "markdown",
      "source": [
        "The first part below should give the user the opportunity to put in **the future value, intrest rate and the time**."
      ],
      "metadata": {
        "id": "zCBbDV0rxcze"
      }
    },
    {
      "cell_type": "code",
      "source": [
        "#gather the amount invested \n",
        "principal = float(input(\"What is the future value?\"))\n",
        "\n",
        "#find out what the rate is and do data validation to ensure it is a percent \n",
        "rate = float(input(\"What rate do you expect to earn yearly?\"))\n",
        "if(rate > 1):\n",
        "  rate/= 100 \n",
        "\n",
        "#find out how long this will be for\n",
        "time = int(input(\"How many years do you expect to hold this investment?\"))\n",
        "\n",
        "\n",
        "output = principal/(1+rate)**time\n",
        "print(f\"The present value of your investment is $ {output:,.2f}\")"
      ],
      "metadata": {
        "id": "07MvsL24w38Q"
      },
      "execution_count": null,
      "outputs": []
    },
    {
      "cell_type": "markdown",
      "source": [
        "The second part below should show the user the **specified amount, how much it will grow to**."
      ],
      "metadata": {
        "id": "RTheX9BuyR7d"
      }
    },
    {
      "cell_type": "code",
      "source": [
        "#gather the amount invested \n",
        "principal = float(input(\"What is the amount per month you will be investing?\"))\n",
        "principal *=12 \n",
        "\n",
        "#find out what the rate is and do data validation to ensure it is a percent \n",
        "rate = float(input(\"What rate do you expect to earn yearly?\"))\n",
        "if(rate > 1):\n",
        "  rate/= 100 \n",
        "\n",
        "#find out how long this will be for\n",
        "time = int(input(\"How many years do you expect to hold this investment?\"))\n",
        "\n",
        "#calculate the return for every five years\n",
        "for i in range(0,time+1,5):\n",
        "  FV = principal*(1+rate)**i\n",
        "  print(f'{i}\\t${FV: .2f}')"
      ],
      "metadata": {
        "id": "C5AV-YknxSPy"
      },
      "execution_count": null,
      "outputs": []
    }
  ]
}