{
  "nbformat": 4,
  "nbformat_minor": 0,
  "metadata": {
    "colab": {
      "name": "HW 4/8/22",
      "provenance": [],
      "collapsed_sections": []
    },
    "kernelspec": {
      "name": "python3",
      "display_name": "Python 3"
    },
    "language_info": {
      "name": "python"
    }
  },
  "cells": [
    {
      "cell_type": "code",
      "source": [
        "import numpy as np \n",
        "import math as m\n",
        "\n",
        "def theMax(numbers):\n",
        "  my_max = numbers[0]\n",
        "  for i in numbers:\n",
        "    if my_max < i: \n",
        "      my_max = i \n",
        "  return my_max \n",
        "\n",
        "def theMin(numbers): \n",
        "  my_min = numbers[0]\n",
        "  for i in numbers: \n",
        "    if my_min > i: \n",
        "      my_min = i \n",
        "  return my_min\n",
        "\n",
        "def theAverage(numbers): \n",
        "  total = 0 \n",
        "  for i in numbers: \n",
        "    total += i \n",
        "  return total/len(numbers)\n",
        "\n",
        "def theGeoMean(numbers): \n",
        "  total = 1 \n",
        "  for i in numbers: \n",
        "    total *= i \n",
        "  return total**(1/len(numbers))\n",
        "\n",
        "def theStandardDev(numbers):\n",
        "  theAvg = theAverage(numbers)\n",
        "  total = 0 \n",
        "  for i in numbers:\n",
        "    total = total + (i-theAvg)**2\n",
        "  return m.sqrt(total/(len(numbers)-1))\n",
        "\n",
        "a = [8,6,2,9,13,3]\n",
        "print(theMax(a))\n",
        "print(theGeoMean(a))\n",
        "print(theStandardDev(a))"
      ],
      "metadata": {
        "colab": {
          "base_uri": "https://localhost:8080/"
        },
        "id": "Q7-9JVPIqalE",
        "outputId": "2eb99ffb-4bf1-4c7c-a840-c7837053e2b3"
      },
      "execution_count": null,
      "outputs": [
        {
          "output_type": "stream",
          "name": "stdout",
          "text": [
            "13\n",
            "5.683245170896967\n",
            "4.070217029430577\n"
          ]
        }
      ]
    },
    {
      "cell_type": "code",
      "source": [
        "def circleArea(radius): \n",
        "  return m.pi*radius**2\n",
        "\n",
        "def rectangleArea(length, width): \n",
        "  return length*width \n",
        "\n",
        "def squareArea(side):\n",
        "  return side*side \n",
        "\n",
        "def triangleArea(base, height):\n",
        "  return base*height/2 \n",
        "\n",
        "def generalArea():\n",
        "  value = input(\"Which would you like to know the area of [circle, square, rectangle, triangle]\")\n",
        "  if value is 'circle': \n",
        "    radius = float(input(\"What's the radius?\"))\n",
        "    print(f\"The area is {circleArea(radius)}.\")\n",
        "  elif value is 'retangle': \n",
        "    radius = float(input(\"What's the radius?\"))\n",
        "    print(f\"The area is {rectangleArea(radius)}.\")\n",
        "  elif value is 'square':\n",
        "    radius = float(input(\"What's the radius?\"))\n",
        "    print(f\"The area is {squareArea(radius)}.\")\n",
        "  elif value is 'triangle':\n",
        "    radius = float(input(\"What's the radius?\"))\n",
        "    print(f\"The area is {triangleArea(radius)}.\")\n",
        "    \n",
        "  \n",
        "\n",
        "generalArea()"
      ],
      "metadata": {
        "colab": {
          "base_uri": "https://localhost:8080/"
        },
        "id": "OBwA7n68t8a7",
        "outputId": "270218e5-177f-4e8f-8186-7b53a945f86e"
      },
      "execution_count": null,
      "outputs": [
        {
          "name": "stdout",
          "output_type": "stream",
          "text": [
            "Which would you like to know the area of [circle, square, rectangle, triangle] circle\n"
          ]
        }
      ]
    },
    {
      "cell_type": "code",
      "source": [
        "def listDoubling():\n",
        "  x = [1,2,3]\n",
        "  y = [1,2,3]\n",
        "  choice = int(input(\"Would you like it doubled by way one (1) or way two (2)?\"))\n",
        "  if choice == 1: \n",
        "    print(x+y)\n",
        "  else: \n",
        "    print(np.array(x)+ np.array(y))\n",
        "\n",
        "listDoubling()"
      ],
      "metadata": {
        "colab": {
          "base_uri": "https://localhost:8080/"
        },
        "id": "JrChsXL7wVqX",
        "outputId": "1a4718dd-013a-4576-be27-1ff3471550fb"
      },
      "execution_count": null,
      "outputs": [
        {
          "output_type": "stream",
          "name": "stdout",
          "text": [
            "Would you like it doubled by way one (1) or way two (2)? 2\n",
            "[2 4 6]\n"
          ]
        }
      ]
    },
    {
      "cell_type": "code",
      "source": [
        "def concatenatePositions(list1, list2): \n",
        "  myBigList = []\n",
        "  for i in range(len(list1)):\n",
        "    myBigList.append(float(str(list1[i])+str(list2[i])))\n",
        "  return myBigList\n",
        "\n",
        "list1 = [1,2,3]\n",
        "list2 = [7,8,9]\n",
        "bigList = concatenatePositions(list1,list2)\n",
        "print(bigList)"
      ],
      "metadata": {
        "colab": {
          "base_uri": "https://localhost:8080/"
        },
        "id": "umwAZ9cZxZeE",
        "outputId": "4fec1c14-ba18-4af4-a9de-bf9eaec621ac"
      },
      "execution_count": null,
      "outputs": [
        {
          "output_type": "stream",
          "name": "stdout",
          "text": [
            "[17.0, 28.0, 39.0]\n"
          ]
        }
      ]
    },
    {
      "cell_type": "code",
      "source": [
        "def isPrime(num):\n",
        "  for i in range(2,num):\n",
        "    if (num%i == 0):\n",
        "      return False \n",
        "    return True \n",
        "\n",
        "def listPrimes(amount): \n",
        "  myList = []\n",
        "  count = 0 \n",
        "  checkVal = 2\n",
        "  while (count < amount):\n",
        "    if(isPrime(checkVal)): \n",
        "      myList.append(checkVal)\n",
        "      count += 1 \n",
        "    checkVal += 1\n",
        "  return myList \n",
        "\n",
        "print(listPrimes(100))"
      ],
      "metadata": {
        "colab": {
          "base_uri": "https://localhost:8080/"
        },
        "id": "d9t4xPWqzVsb",
        "outputId": "d135e819-498a-4a13-dd14-f7537e443dcc"
      },
      "execution_count": null,
      "outputs": [
        {
          "output_type": "stream",
          "name": "stdout",
          "text": [
            "[3, 5, 7, 9, 11, 13, 15, 17, 19, 21, 23, 25, 27, 29, 31, 33, 35, 37, 39, 41, 43, 45, 47, 49, 51, 53, 55, 57, 59, 61, 63, 65, 67, 69, 71, 73, 75, 77, 79, 81, 83, 85, 87, 89, 91, 93, 95, 97, 99, 101, 103, 105, 107, 109, 111, 113, 115, 117, 119, 121, 123, 125, 127, 129, 131, 133, 135, 137, 139, 141, 143, 145, 147, 149, 151, 153, 155, 157, 159, 161, 163, 165, 167, 169, 171, 173, 175, 177, 179, 181, 183, 185, 187, 189, 191, 193, 195, 197, 199, 201]\n"
          ]
        }
      ]
    },
    {
      "cell_type": "code",
      "source": [
        "def calculation(one,two): \n",
        "  return one*two,one/two \n",
        "\n",
        "myVal = calculation(9,2)\n",
        "print(myVal[0])\n",
        "print(myVal[1])"
      ],
      "metadata": {
        "colab": {
          "base_uri": "https://localhost:8080/"
        },
        "id": "5qsZBjFj1Mkn",
        "outputId": "f8fc1427-d2b0-446a-a27a-afd3df1bff1d"
      },
      "execution_count": null,
      "outputs": [
        {
          "output_type": "stream",
          "name": "stdout",
          "text": [
            "18\n",
            "4.5\n"
          ]
        }
      ]
    },
    {
      "cell_type": "code",
      "source": [
        "myList = []\n",
        "for i in range(1000):\n",
        "  if (i%3 == 0) or (i%5 == 0): \n",
        "    myList.append(i)\n",
        "\n",
        "total = 0 \n",
        "for i in myList: \n",
        "  total = total + i \n",
        "\n",
        "print(total)"
      ],
      "metadata": {
        "colab": {
          "base_uri": "https://localhost:8080/"
        },
        "id": "pqwMVHdS1yo3",
        "outputId": "f14d6e3c-8954-4d44-9515-3ab19102f718"
      },
      "execution_count": null,
      "outputs": [
        {
          "output_type": "stream",
          "name": "stdout",
          "text": [
            "233168\n"
          ]
        }
      ]
    },
    {
      "cell_type": "code",
      "source": [
        "bound = 500 \n",
        "numOne = 1 \n",
        "numTwo = 1 \n",
        "numThree = numOne + numTwo \n",
        "total = 0 \n",
        "\n",
        "while numThree < bound: \n",
        "  numThree = numOne + numTwo \n",
        "  if numThree%2 == 0 and numThree < bound: \n",
        "    total += numThree \n",
        "  numOne = numTwo \n",
        "  numTwo = numThree \n",
        "\n",
        "print(total)\n"
      ],
      "metadata": {
        "colab": {
          "base_uri": "https://localhost:8080/"
        },
        "id": "N6dMdBeF2mhq",
        "outputId": "879ac394-7dda-4f6c-967e-cf4856cb0006"
      },
      "execution_count": null,
      "outputs": [
        {
          "output_type": "stream",
          "name": "stdout",
          "text": [
            "188\n"
          ]
        }
      ]
    }
  ]
}