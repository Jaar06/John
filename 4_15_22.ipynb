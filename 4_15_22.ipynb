{
  "nbformat": 4,
  "nbformat_minor": 0,
  "metadata": {
    "colab": {
      "name": "4/15/22 ",
      "provenance": [],
      "collapsed_sections": []
    },
    "kernelspec": {
      "name": "python3",
      "display_name": "Python 3"
    },
    "language_info": {
      "name": "python"
    }
  },
  "cells": [
    {
      "cell_type": "code",
      "execution_count": null,
      "metadata": {
        "id": "pzcVhyP9YwYf"
      },
      "outputs": [],
      "source": [
        ""
      ]
    },
    {
      "cell_type": "markdown",
      "source": [
        "#Data Science \n",
        "Data Science is a interdisciplinary field that uses scientific methods, processes, algorithos and systems to extract knowledge \n",
        "\n",
        "*Explaining Data Science*: \n",
        "Data Science is all about a systematic process used by Data Scientists to analyzed, visualze and model large abouts of data."
      ],
      "metadata": {
        "id": "Ns2PejJdo0nv"
      }
    },
    {
      "cell_type": "markdown",
      "source": [
        "#The differences of a list and tuple\n",
        "\n",
        "The key difference between a list and tuple is that tuples cannot be changed while lists can be modified but tuples are more memory effcient than the list "
      ],
      "metadata": {
        "id": "FmzhFBRJpwGG"
      }
    },
    {
      "cell_type": "markdown",
      "source": [
        "#The following major libraries and what they do \n",
        "\n",
        "1. scikit learn provides a selection of tools for machine learning and statistical modeling including classification, regression, clustering and dimensionality reduction in python \n",
        "\n",
        "2. pandas is used for data manipulation and analysis \n",
        "\n",
        "3. tensorflow provides a collection of workflows to develop and train models using Python or JavaScript \n",
        "\n",
        "4. numpy is used to perform a number of mathematical operations on arrays such as trigonometric, statistical, and algebraic routines. \n",
        "\n",
        "5. tkinter provides Python users with a simple way to create **GUI** elements using the widgets found in the Tk toolkit "
      ],
      "metadata": {
        "id": "MQw5uZClqMzt"
      }
    }
  ]
}