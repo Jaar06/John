{
  "nbformat": 4,
  "nbformat_minor": 0,
  "metadata": {
    "colab": {
      "name": "HW 4 ",
      "provenance": []
    },
    "kernelspec": {
      "name": "python3",
      "display_name": "Python 3"
    },
    "language_info": {
      "name": "python"
    }
  },
  "cells": [
    {
      "cell_type": "markdown",
      "source": [
        "HW 4 "
      ],
      "metadata": {
        "id": "ePG8IXiPToRJ"
      }
    },
    {
      "cell_type": "code",
      "execution_count": null,
      "metadata": {
        "colab": {
          "base_uri": "https://localhost:8080/"
        },
        "id": "ul3y8SUOTj-J",
        "outputId": "c16d01ca-a869-42a3-9962-de8f85770779"
      },
      "outputs": [
        {
          "output_type": "stream",
          "name": "stdout",
          "text": [
            "How many would you like to purchase? 34\n",
            "The discount is 20.0%\n",
            "The total price is 2,692.80\n"
          ]
        }
      ],
      "source": [
        "item_price = 99 \n",
        "amount = 0 \n",
        "discount = 0 \n",
        "total_price = 0 \n",
        "\n",
        "#ask the user for the number ordered \n",
        "amount = int(input(\"How many would you like to purchase?\"))\n",
        "\n",
        "if(amount >= 10 and amount <= 19):\n",
        "  discount = .1\n",
        "elif (amount >= 20 and amount <= 49):\n",
        "  discount = .2 \n",
        "elif (amount >= 50 and amount <= 99): \n",
        "  discount = .3 \n",
        "elif (amount >= 100): \n",
        "  discount = .4 \n",
        "\n",
        "#print the discount \n",
        "print(f\"The discount is {discount*100}%\")\n",
        "\n",
        "#calculate and print the total price \n",
        "total_price = amount*item_price*(1-discount)\n",
        "print(f\"The total price is {total_price:,.2f}\")"
      ]
    },
    {
      "cell_type": "markdown",
      "source": [
        "## HW 4 - Queston 2 "
      ],
      "metadata": {
        "id": "3oZ1ia40Zimj"
      }
    },
    {
      "cell_type": "code",
      "source": [
        "weight = 0 \n",
        "rate_per_pound = 0 \n",
        "\n",
        "weight = float(input(\"How much does your package weigh?\"))\n",
        "\n",
        "if(weight <= 2):\n",
        "  rate_per_pound = 1.5 \n",
        "elif (weight >2 and weight <= 6):\n",
        "  rate_per_pound = 3\n",
        "elif (weight >6 and weight <= 10):\n",
        "  rate_per_pound = 4\n",
        "elif (weight > 10): \n",
        "  rate_per_pound = 4.75 \n",
        "\n",
        "print(f\"The rate is ${rate_per_pound:.2f}\")"
      ],
      "metadata": {
        "colab": {
          "base_uri": "https://localhost:8080/"
        },
        "id": "r-u2pIwvZYCf",
        "outputId": "520e7c7b-04e9-4d76-c259-76d2c4110723"
      },
      "execution_count": null,
      "outputs": [
        {
          "output_type": "stream",
          "name": "stdout",
          "text": [
            "How much does your package weigh?4 \n",
            "The rate is $3.00\n"
          ]
        }
      ]
    }
  ]
}